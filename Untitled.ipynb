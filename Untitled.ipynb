{
 "cells": [
  {
   "cell_type": "code",
   "execution_count": 1,
   "metadata": {
    "collapsed": false
   },
   "outputs": [
    {
     "data": {
      "text/plain": [
       "<matplotlib.image.AxesImage at 0x7f1a6afc9128>"
      ]
     },
     "execution_count": 1,
     "metadata": {},
     "output_type": "execute_result"
    }
   ],
   "source": [
    "import matplotlib.pyplot as plt\n",
    "import matplotlib.image as mpimg\n",
    "import numpy as np\n",
    "\n",
    "# Read in the image\n",
    "image = mpimg.imread('test.jpg')\n",
    "\n",
    "# Grab the x and y sizes and make two copies of the image\n",
    "# With one copy we'll extract only the pixels that meet our selection,\n",
    "# then we'll paint those pixels red in the original image to see our selection \n",
    "# overlaid on the original.\n",
    "ysize = image.shape[0]\n",
    "xsize = image.shape[1]\n",
    "color_select= np.copy(image)\n",
    "line_image = np.copy(image)\n",
    "\n",
    "# Define our color criteria\n",
    "red_threshold = 0\n",
    "green_threshold = 0\n",
    "blue_threshold = 0\n",
    "rgb_threshold = [red_threshold, green_threshold, blue_threshold]\n",
    "\n",
    "# Define a triangle region of interest (Note: if you run this code, \n",
    "# Keep in mind the origin (x=0, y=0) is in the upper left in image processing\n",
    "# you'll find these are not sensible values!!\n",
    "# But you'll get a chance to play with them soon in a quiz ;)\n",
    "left_bottom = [0, 539]\n",
    "right_bottom = [900, 300]\n",
    "apex = [400, 0]\n",
    "\n",
    "fit_left = np.polyfit((left_bottom[0], apex[0]), (left_bottom[1], apex[1]), 1)\n",
    "fit_right = np.polyfit((right_bottom[0], apex[0]), (right_bottom[1], apex[1]), 1)\n",
    "fit_bottom = np.polyfit((left_bottom[0], right_bottom[0]), (left_bottom[1], right_bottom[1]), 1)\n",
    "\n",
    "# Perform a \"bitwise or\" to mask pixels below the threshold\n",
    "color_thresholds = (image[:,:,0] < rgb_threshold[0]) | \\\n",
    "                    (image[:,:,1] < rgb_threshold[1]) | \\\n",
    "                    (image[:,:,2] < rgb_threshold[2])\n",
    "\n",
    "# Find the region inside the lines\n",
    "XX, YY = np.meshgrid(np.arange(0, xsize), np.arange(0, ysize))\n",
    "region_thresholds = (YY > (XX*fit_left[0] + fit_left[1])) & \\\n",
    "                    (YY > (XX*fit_right[0] + fit_right[1])) & \\\n",
    "                    (YY < (XX*fit_bottom[0] + fit_bottom[1]))\n",
    "# Mask color selection\n",
    "color_select[color_thresholds] = [0,0,0]\n",
    "# Find where image is both colored right and in the region\n",
    "line_image[~color_thresholds & region_thresholds] = [255,0,0]\n",
    "\n",
    "# Display our two output images\n",
    "plt.imshow(color_select)\n",
    "plt.imshow(line_image)"
   ]
  },
  {
   "cell_type": "code",
   "execution_count": 3,
   "metadata": {
    "collapsed": false
   },
   "outputs": [
    {
     "data": {
      "text/plain": [
       "array([[False, False, False, ..., False, False, False],\n",
       "       [False, False, False, ..., False, False, False],\n",
       "       [False, False, False, ..., False, False, False],\n",
       "       ..., \n",
       "       [False, False, False, ..., False, False, False],\n",
       "       [False, False, False, ..., False, False, False],\n",
       "       [False, False, False, ..., False, False, False]], dtype=bool)"
      ]
     },
     "execution_count": 3,
     "metadata": {},
     "output_type": "execute_result"
    }
   ],
   "source": [
    "(image[:,:,0] < rgb_threshold[0]) \n"
   ]
  },
  {
   "cell_type": "code",
   "execution_count": 5,
   "metadata": {
    "collapsed": false
   },
   "outputs": [
    {
     "data": {
      "text/plain": [
       "array([[86, 89, 90, ..., 25, 27, 36],\n",
       "       [80, 99, 87, ..., 36, 28, 29],\n",
       "       [79, 94, 87, ..., 34, 14, 14],\n",
       "       ..., \n",
       "       [40, 37, 33, ..., 31, 28, 36],\n",
       "       [38, 43, 44, ..., 38, 39, 40],\n",
       "       [43, 48, 46, ..., 36, 45, 36]], dtype=uint8)"
      ]
     },
     "execution_count": 5,
     "metadata": {},
     "output_type": "execute_result"
    }
   ],
   "source": [
    "image[:,:,0]"
   ]
  },
  {
   "cell_type": "code",
   "execution_count": 6,
   "metadata": {
    "collapsed": false
   },
   "outputs": [
    {
     "data": {
      "text/plain": [
       "array([[[ 86, 131, 170],\n",
       "        [ 89, 122, 193],\n",
       "        [ 90, 128, 193],\n",
       "        ..., \n",
       "        [ 25,  24,  29],\n",
       "        [ 27,  25,  26],\n",
       "        [ 36,  17,   0]],\n",
       "\n",
       "       [[ 80, 122, 164],\n",
       "        [ 99, 124, 188],\n",
       "        [ 87, 117, 177],\n",
       "        ..., \n",
       "        [ 36,  24,  12],\n",
       "        [ 28,  21,  13],\n",
       "        [ 29,  15,   2]],\n",
       "\n",
       "       [[ 79, 113, 158],\n",
       "        [ 94, 111, 167],\n",
       "        [ 87, 109, 159],\n",
       "        ..., \n",
       "        [ 34,  24,  14],\n",
       "        [ 14,  14,  14],\n",
       "        [ 14,  13,  18]],\n",
       "\n",
       "       ..., \n",
       "       [[ 40,  32,  19],\n",
       "        [ 37,  28,  19],\n",
       "        [ 33,  26,  18],\n",
       "        ..., \n",
       "        [ 31,  11,  13],\n",
       "        [ 28,  18,  17],\n",
       "        [ 36,  35,  31]],\n",
       "\n",
       "       [[ 38,  30,  17],\n",
       "        [ 43,  34,  25],\n",
       "        [ 44,  37,  29],\n",
       "        ..., \n",
       "        [ 38,  16,  19],\n",
       "        [ 39,  31,  29],\n",
       "        [ 40,  40,  38]],\n",
       "\n",
       "       [[ 43,  35,  22],\n",
       "        [ 48,  39,  30],\n",
       "        [ 46,  37,  30],\n",
       "        ..., \n",
       "        [ 36,  14,  17],\n",
       "        [ 45,  40,  37],\n",
       "        [ 36,  38,  35]]], dtype=uint8)"
      ]
     },
     "execution_count": 6,
     "metadata": {},
     "output_type": "execute_result"
    }
   ],
   "source": [
    "image"
   ]
  },
  {
   "cell_type": "code",
   "execution_count": null,
   "metadata": {
    "collapsed": true
   },
   "outputs": [],
   "source": []
  }
 ],
 "metadata": {
  "anaconda-cloud": {},
  "kernelspec": {
   "display_name": "Python [conda root]",
   "language": "python",
   "name": "conda-root-py"
  },
  "language_info": {
   "codemirror_mode": {
    "name": "ipython",
    "version": 3
   },
   "file_extension": ".py",
   "mimetype": "text/x-python",
   "name": "python",
   "nbconvert_exporter": "python",
   "pygments_lexer": "ipython3",
   "version": "3.5.2"
  }
 },
 "nbformat": 4,
 "nbformat_minor": 1
}
