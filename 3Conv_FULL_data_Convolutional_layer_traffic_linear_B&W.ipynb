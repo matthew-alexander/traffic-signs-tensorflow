{
 "cells": [
  {
   "cell_type": "code",
   "execution_count": 1,
   "metadata": {
    "collapsed": false
   },
   "outputs": [],
   "source": [
    "%matplotlib inline\n",
    "import pickle\n",
    "import matplotlib.pyplot as plt\n",
    "import tensorflow as tf\n",
    "import numpy as np\n",
    "from sklearn.metrics import confusion_matrix\n",
    "from sklearn.model_selection import train_test_split\n",
    "\n",
    "import time\n",
    "from datetime import timedelta\n",
    "import cv2\n",
    "import matplotlib.image as mpimg\n",
    "import matplotlib.gridspec as gridspec"
   ]
  },
  {
   "cell_type": "markdown",
   "metadata": {},
   "source": [
    "# Importing the datasets "
   ]
  },
  {
   "cell_type": "code",
   "execution_count": 2,
   "metadata": {
    "collapsed": false
   },
   "outputs": [],
   "source": [
    "training_file = \"train.p\"\n",
    "testing_file = \"test.p\"\n",
    "\n",
    "with open(training_file, mode='rb') as f:\n",
    "    train = pickle.load(f)\n",
    "with open(testing_file, mode='rb') as f:\n",
    "    test = pickle.load(f)\n",
    "    \n",
    "X_train, y_train = train['features'], train['labels']\n",
    "X_test, y_test = test['features'], test['labels']\n",
    "\n",
    "# X_train, X_validation, y_train, y_validation = train_test_split(\n",
    "#     X_train,\n",
    "#     y_train,\n",
    "    \n",
    "#     test_size=0.2,\n",
    "#     random_state=832289)\n",
    "\n"
   ]
  },
  {
   "cell_type": "markdown",
   "metadata": {},
   "source": [
    "# Augmenting the dataset"
   ]
  },
  {
   "cell_type": "code",
   "execution_count": 3,
   "metadata": {
    "collapsed": false
   },
   "outputs": [],
   "source": [
    "def transform_image(img,ang_range,shear_range,trans_range):\n",
    "    '''\n",
    "    This function transforms images to generate new images.\n",
    "    The function takes in following arguments,\n",
    "    1- Image\n",
    "    2- ang_range: Range of angles for rotation\n",
    "    3- shear_range: Range of values to apply affine transform to\n",
    "    4- trans_range: Range of values to apply translations over. \n",
    "    \n",
    "    A Random uniform distribution is used to generate different parameters for transformation\n",
    "    \n",
    "    '''\n",
    "    # Rotation\n",
    "\n",
    "    ang_rot = np.random.uniform(ang_range)-ang_range/2\n",
    "    rows,cols,ch = img.shape    \n",
    "    Rot_M = cv2.getRotationMatrix2D((cols/2,rows/2),ang_rot,1)\n",
    "\n",
    "    # Translation\n",
    "    tr_x = trans_range*np.random.uniform()-trans_range/2\n",
    "    tr_y = trans_range*np.random.uniform()-trans_range/2\n",
    "    Trans_M = np.float32([[1,0,tr_x],[0,1,tr_y]])\n",
    "\n",
    "    # Shear\n",
    "    pts1 = np.float32([[5,5],[20,5],[5,20]])\n",
    "\n",
    "    pt1 = 5+shear_range*np.random.uniform()-shear_range/2\n",
    "    pt2 = 20+shear_range*np.random.uniform()-shear_range/2\n",
    "\n",
    "    pts2 = np.float32([[pt1,5],[pt2,pt1],[5,pt2]])\n",
    "\n",
    "    shear_M = cv2.getAffineTransform(pts1,pts2)\n",
    "        \n",
    "    img = cv2.warpAffine(img,Rot_M,(cols,rows))\n",
    "    img = cv2.warpAffine(img,Trans_M,(cols,rows))\n",
    "    img = cv2.warpAffine(img,shear_M,(cols,rows))\n",
    "    \n",
    "    return img"
   ]
  },
  {
   "cell_type": "code",
   "execution_count": 4,
   "metadata": {
    "collapsed": false
   },
   "outputs": [
    {
     "name": "stdout",
     "output_type": "stream",
     "text": [
      "compute time:  0:00:03\n"
     ]
    }
   ],
   "source": [
    "# 3 million images tto much ? \n",
    "\n",
    "start_time = time.time()\n",
    "\n",
    "jittered_images = []\n",
    "jittered_labels = []\n",
    "\n",
    "for i in range(len(X_train)):\n",
    "    for j in range(1):\n",
    "        img = transform_image(X_train[i],20,10,5)\n",
    "        jittered_images.append(img)\n",
    "        jittered_labels.append(y_train[i])\n",
    "        \n",
    "\n",
    "\n",
    "end_time = time.time()\n",
    "compute_time = end_time - start_time\n",
    "\n",
    "print(\"compute time: \" , str(timedelta(seconds = int(round(compute_time)))))\n"
   ]
  },
  {
   "cell_type": "code",
   "execution_count": null,
   "metadata": {
    "collapsed": false
   },
   "outputs": [],
   "source": []
  },
  {
   "cell_type": "markdown",
   "metadata": {},
   "source": [
    "## Dataset facts "
   ]
  },
  {
   "cell_type": "code",
   "execution_count": 5,
   "metadata": {
    "collapsed": false
   },
   "outputs": [
    {
     "name": "stdout",
     "output_type": "stream",
     "text": [
      "Number of training examples = 39209\n",
      "Number of training examples = 39209\n",
      "Number of testing examples = 12630\n",
      "Image data shape = (32, 32, 3)\n",
      "Number of classes = 43\n",
      "Image Size Flat = 1024\n"
     ]
    }
   ],
   "source": [
    "n_train = len(jittered_labels)\n",
    "n_validation = len(y_train)\n",
    "n_test = len(y_test)\n",
    "image_shape  = np.shape(X_train[1])\n",
    "n_classes = len(np.unique(y_train))\n",
    "\n",
    "img_size_flat = image_shape[0] * image_shape[1]\n",
    "\n",
    "print(\"Number of training examples =\", n_train)\n",
    "print(\"Number of training examples =\", n_validation)\n",
    "print(\"Number of testing examples =\", n_test)\n",
    "print(\"Image data shape =\", image_shape)\n",
    "print(\"Number of classes =\", n_classes)\n",
    "\n",
    "print(\"Image Size Flat =\", img_size_flat)"
   ]
  },
  {
   "cell_type": "markdown",
   "metadata": {},
   "source": [
    "# One-hot encoding the labels"
   ]
  },
  {
   "cell_type": "code",
   "execution_count": 6,
   "metadata": {
    "collapsed": true
   },
   "outputs": [],
   "source": [
    "# y_train_encoded = np.eye(43)[y_tiny]\n",
    "# y_test_encoded = np.eye(43)[y_tiny]\n",
    "y_train_encoded = np.eye(43)[jittered_labels]\n",
    "y_validation_encoded = np.eye(43)[y_train]\n",
    "y_test_encoded = np.eye(43)[y_test]"
   ]
  },
  {
   "cell_type": "code",
   "execution_count": 7,
   "metadata": {
    "collapsed": false
   },
   "outputs": [
    {
     "data": {
      "text/plain": [
       "array([ 1.,  0.,  0.,  0.,  0.,  0.,  0.,  0.,  0.,  0.,  0.,  0.,  0.,\n",
       "        0.,  0.,  0.,  0.,  0.,  0.,  0.,  0.,  0.,  0.,  0.,  0.,  0.,\n",
       "        0.,  0.,  0.,  0.,  0.,  0.,  0.,  0.,  0.,  0.,  0.,  0.,  0.,\n",
       "        0.,  0.,  0.,  0.])"
      ]
     },
     "execution_count": 7,
     "metadata": {},
     "output_type": "execute_result"
    }
   ],
   "source": [
    "y_train_encoded[0]"
   ]
  },
  {
   "cell_type": "code",
   "execution_count": null,
   "metadata": {
    "collapsed": false
   },
   "outputs": [],
   "source": []
  },
  {
   "cell_type": "markdown",
   "metadata": {},
   "source": [
    "# Pre-processing the images\n"
   ]
  },
  {
   "cell_type": "code",
   "execution_count": 8,
   "metadata": {
    "collapsed": false
   },
   "outputs": [],
   "source": [
    "def pre_process_image(image):\n",
    "    \n",
    "    image = cv2.cvtColor(image, cv2.COLOR_BGR2GRAY)\n",
    "    image = cv2.resize(image, (32,32),interpolation = cv2.INTER_CUBIC)\n",
    "    \n",
    "#     Min-Max scaling for greyscale image data\n",
    "    Xmin = 0\n",
    "    Xmax = 255\n",
    "    a = 0.1\n",
    "    b = 0.9\n",
    "    \n",
    "    image = a + ((image - Xmin) * (b-a)) / (Xmax-Xmin)\n",
    "#     image = image - 83\n",
    "    return image"
   ]
  },
  {
   "cell_type": "code",
   "execution_count": 9,
   "metadata": {
    "collapsed": false
   },
   "outputs": [
    {
     "name": "stdout",
     "output_type": "stream",
     "text": [
      "compute time:  0:00:01\n"
     ]
    }
   ],
   "source": [
    "import math \n",
    "\n",
    "start_time = time.time()\n",
    "\n",
    "batch_size = 31367\n",
    "batch_count = int(math.ceil(len(jittered_images)/batch_size))\n",
    "# batch_count = 2\n",
    "\n",
    "image_GS_train = []\n",
    "\n",
    "for batch_i in range(batch_count):\n",
    "            # Get a batch of jittered images\n",
    "            batch_start = batch_i*batch_size\n",
    "            batch_features = jittered_images[batch_start:batch_start + batch_size]\n",
    "            batch_labels = jittered_labels[batch_start:batch_start + batch_size]\n",
    "            \n",
    "            batch_GS_train = np.array([pre_process_image(batch_features[i]) for i in range(len(batch_features))], dtype = np.float32)\n",
    "            \n",
    "            for img in batch_GS_train:\n",
    "                image_GS_train.append(img)\n",
    "#                 np.append(image_GS_train, img)\n",
    "\n",
    "\n",
    "image_GS_train = np.asarray(image_GS_train)    \n",
    "end_time = time.time()\n",
    "compute_time = end_time - start_time\n",
    "print(\"compute time: \" , str(timedelta(seconds = int(round(compute_time)))))\n",
    "\n",
    "            "
   ]
  },
  {
   "cell_type": "code",
   "execution_count": 10,
   "metadata": {
    "collapsed": false
   },
   "outputs": [
    {
     "data": {
      "text/plain": [
       "array([[ 0.27568626,  0.31647059,  0.36666667, ...,  0.39490196,\n",
       "         0.38235295,  0.3509804 ],\n",
       "       [ 0.41999999,  0.43254903,  0.47019607, ...,  0.37607843,\n",
       "         0.36352941,  0.34470588],\n",
       "       [ 0.44509804,  0.44196078,  0.49843138, ...,  0.35725489,\n",
       "         0.34470588,  0.33215687],\n",
       "       ..., \n",
       "       [ 0.25058824,  0.41999999,  0.49215686, ...,  0.1       ,\n",
       "         0.1       ,  0.1       ],\n",
       "       [ 0.18470588,  0.38235295,  0.47647059, ...,  0.1       ,\n",
       "         0.1       ,  0.1       ],\n",
       "       [ 0.13137256,  0.31960785,  0.42313725, ...,  0.1       ,\n",
       "         0.1       ,  0.1       ]], dtype=float32)"
      ]
     },
     "execution_count": 10,
     "metadata": {},
     "output_type": "execute_result"
    }
   ],
   "source": [
    "len(image_GS_train)\n",
    "image_GS_train[0]"
   ]
  },
  {
   "cell_type": "code",
   "execution_count": 11,
   "metadata": {
    "collapsed": false
   },
   "outputs": [],
   "source": [
    "# image_GS_train = np.array([pre_process_image(X_tiny[i]) for i in range(len(X_tiny))], dtype = np.float32)\n",
    "# image_GS_test = np.array([pre_process_image(X_tiny[i]) for i in range(len(X_tiny))], dtype = np.float32)\n",
    "\n",
    "image_GS_train = np.array([pre_process_image(jittered_images[i]) for i in range(len(jittered_images))], dtype = np.float32)\n",
    "\n",
    "image_GS_validation = np.array([pre_process_image(X_train[i]) for i in range(len(X_train))], dtype = np.float32)\n",
    "image_GS_test = np.array([pre_process_image(X_test[i]) for i in range(len(X_test))], dtype = np.float32)"
   ]
  },
  {
   "cell_type": "code",
   "execution_count": 12,
   "metadata": {
    "collapsed": false
   },
   "outputs": [],
   "source": [
    "image_flat_train = image_GS_train.reshape((-1,img_size_flat))\n",
    "image_flat_validation = image_GS_validation.reshape((-1,img_size_flat))\n",
    "image_flat_test  = image_GS_test.reshape((-1,img_size_flat))"
   ]
  },
  {
   "cell_type": "code",
   "execution_count": 13,
   "metadata": {
    "collapsed": true
   },
   "outputs": [],
   "source": [
    "def process_and_flatten(image_array):\n",
    "    images_gray = np.array([pre_process_image(image_array[i]) for i in range(len(image_array))], dtype = np.float32)\n",
    "    images_flat= images_gray.reshape((-1,img_size_flat))\n",
    "#         Min-Max scaling for greyscale image data\n",
    "    Xmin = 0\n",
    "    Xmax = 255\n",
    "    a = 0.1\n",
    "    b = 0.9\n",
    "    \n",
    "    images_new = a + ((images_flat - Xmin) * (b-a)) / (Xmax-Xmin)\n",
    "    return images_new"
   ]
  },
  {
   "cell_type": "code",
   "execution_count": 14,
   "metadata": {
    "collapsed": false
   },
   "outputs": [
    {
     "data": {
      "text/plain": [
       "array([ 0.27568626,  0.31647059,  0.36666667, ...,  0.1       ,\n",
       "        0.1       ,  0.1       ], dtype=float32)"
      ]
     },
     "execution_count": 14,
     "metadata": {},
     "output_type": "execute_result"
    }
   ],
   "source": [
    "(image_flat_train[0]) "
   ]
  },
  {
   "cell_type": "code",
   "execution_count": 15,
   "metadata": {
    "collapsed": false
   },
   "outputs": [
    {
     "data": {
      "text/plain": [
       "<matplotlib.image.AxesImage at 0x7efc49ecb4e0>"
      ]
     },
     "execution_count": 15,
     "metadata": {},
     "output_type": "execute_result"
    },
    {
     "data": {
      "image/png": "[encoded data removed]",
      "text/plain": [
       "<matplotlib.figure.Figure at 0x7efc4e926c18>"
      ]
     },
     "metadata": {},
     "output_type": "display_data"
    }
   ],
   "source": [
    "plt.imshow(image_GS_train[0])"
   ]
  },
  {
   "cell_type": "markdown",
   "metadata": {},
   "source": [
    "# Batching"
   ]
  },
  {
   "cell_type": "code",
   "execution_count": 16,
   "metadata": {
    "collapsed": true
   },
   "outputs": [],
   "source": [
    "def random_batch():\n",
    "    # Number of images in the training-set.\n",
    "    num_images = len(image_flat_train)\n",
    "\n",
    "    # Create a random index.\n",
    "    idx = np.random.choice(num_images,\n",
    "                           size=batch_size,\n",
    "                           replace=False)\n",
    "\n",
    "    # Use the random index to select random images and labels.\n",
    "    features_batch = image_flat_train[idx, :]\n",
    "    labels_batch = y_train_encoded[idx, :]\n",
    "\n",
    "    return features_batch, labels_batch"
   ]
  },
  {
   "cell_type": "markdown",
   "metadata": {},
   "source": [
    "# Configuring the Neural Network\n"
   ]
  },
  {
   "cell_type": "code",
   "execution_count": 17,
   "metadata": {
    "collapsed": true
   },
   "outputs": [],
   "source": [
    "# Convolutional Layer 1.\n",
    "filter_size1 = 4         # Convolution filters are 5 x 5 pixels.\n",
    "num_filters1 = 16         # There are 16 of these filters.\n",
    "\n",
    "# Convolutional Layer 2.\n",
    "filter_size2 = 4      # Convolution filters are 5 x 5 pixels.\n",
    "num_filters2 = 36         # There are 36 of these filters.\n",
    "\n",
    "# Fully-connected layer.\n",
    "fc_size = 128 "
   ]
  },
  {
   "cell_type": "markdown",
   "metadata": {},
   "source": [
    "\n"
   ]
  },
  {
   "cell_type": "code",
   "execution_count": null,
   "metadata": {
    "collapsed": true
   },
   "outputs": [],
   "source": []
  },
  {
   "cell_type": "code",
   "execution_count": null,
   "metadata": {
    "collapsed": true
   },
   "outputs": [],
   "source": []
  },
  {
   "cell_type": "code",
   "execution_count": null,
   "metadata": {
    "collapsed": true
   },
   "outputs": [],
   "source": []
  },
  {
   "cell_type": "code",
   "execution_count": null,
   "metadata": {
    "collapsed": true
   },
   "outputs": [],
   "source": []
  },
  {
   "cell_type": "code",
   "execution_count": null,
   "metadata": {
    "collapsed": true
   },
   "outputs": [],
   "source": []
  },
  {
   "cell_type": "code",
   "execution_count": null,
   "metadata": {
    "collapsed": true
   },
   "outputs": [],
   "source": []
  },
  {
   "cell_type": "code",
   "execution_count": null,
   "metadata": {
    "collapsed": true
   },
   "outputs": [],
   "source": []
  },
  {
   "cell_type": "code",
   "execution_count": null,
   "metadata": {
    "collapsed": true
   },
   "outputs": [],
   "source": []
  },
  {
   "cell_type": "markdown",
   "metadata": {},
   "source": [
    "# Setting up the TensorFlow model"
   ]
  },
  {
   "cell_type": "markdown",
   "metadata": {},
   "source": [
    "## setting up the placeholder variables"
   ]
  },
  {
   "cell_type": "code",
   "execution_count": null,
   "metadata": {
    "collapsed": false
   },
   "outputs": [],
   "source": []
  },
  {
   "cell_type": "code",
   "execution_count": null,
   "metadata": {
    "collapsed": true
   },
   "outputs": [],
   "source": [
    "\n"
   ]
  },
  {
   "cell_type": "markdown",
   "metadata": {},
   "source": [
    "# TensorFlow model"
   ]
  },
  {
   "cell_type": "code",
   "execution_count": 18,
   "metadata": {
    "collapsed": false
   },
   "outputs": [],
   "source": [
    "-"
   ]
  },
  {
   "cell_type": "markdown",
   "metadata": {},
   "source": [
    "# TensorFlow Session\n"
   ]
  },
  {
   "cell_type": "code",
   "execution_count": 19,
   "metadata": {
    "collapsed": false
   },
   "outputs": [],
   "source": [
    "\n",
    "def optimize(n_iterations):\n",
    "    accuracy_list = []\n",
    "    loss_list = []\n",
    "    iteration_list = []\n",
    "    \n",
    "    for iteration in range(n_iterations):\n",
    "        features_batch, labels_true_batch = random_batch()\n",
    "        feed_dict_batch = {x: features_batch, y: labels_true_batch}\n",
    "        sess.run(optimizer, feed_dict = feed_dict_batch)\n",
    "        \n",
    "#         feed_dict_test = {x: image_flat_test,\n",
    "#                   y: y_test_encoded,\n",
    "#                   y_true_cls:y_test}\n",
    "        \n",
    "        \n",
    "#         acc = sess.run(accuracy,feed_dict=feed_dict_test)\n",
    "\n",
    "#         accuracy_list.append(acc)\n",
    "#         loss = sess.run(cost,feed_dict=feed_dict_test)\n",
    "\n",
    "#         loss_list.append(loss)\n",
    "#         iteration_list.append(iteration)\n",
    "#         print(iteration)\n",
    "        \n",
    "        \n",
    "#     loss_plot = plt.subplot(211)\n",
    "#     loss_plot.set_title('Loss & Accuracy')\n",
    "#     loss_plot.plot(iteration_list, loss_list, 'g')\n",
    "#     acc_plot = loss_plot.twinx()\n",
    "#     acc_plot.plot(iteration_list, accuracy_list, 'b')\n",
    "        \n",
    "    \n",
    "        "
   ]
  },
  {
   "cell_type": "code",
   "execution_count": 20,
   "metadata": {
    "collapsed": false
   },
   "outputs": [],
   "source": [
    "sess = tf.Session()\n"
   ]
  },
  {
   "cell_type": "code",
   "execution_count": 21,
   "metadata": {
    "collapsed": false
   },
   "outputs": [
    {
     "name": "stdout",
     "output_type": "stream",
     "text": [
      "compute time:  0:00:01\n"
     ]
    }
   ],
   "source": [
    "start_time = time.time()\n",
    "sess.run(tf.initialize_all_variables())\n",
    "\n",
    "iter = 10\n",
    "\n",
    "optimize(iter)\n",
    "\n",
    "end_time = time.time()\n",
    "compute_time = end_time - start_time\n",
    "\n",
    "print(\"compute time: \" , str(timedelta(seconds = int(round(compute_time)))))"
   ]
  },
  {
   "cell_type": "code",
   "execution_count": null,
   "metadata": {
    "collapsed": true
   },
   "outputs": [],
   "source": [
    "                                                                                                                                                                                                                                                                                                                                             "
   ]
  },
  {
   "cell_type": "markdown",
   "metadata": {},
   "source": [
    "## Getting the accuracy on the Test Set"
   ]
  },
  {
   "cell_type": "code",
   "execution_count": 22,
   "metadata": {
    "collapsed": false
   },
   "outputs": [],
   "source": [
    "feed_dict_test = {x: image_flat_test,\n",
    "                  y: y_test_encoded,\n",
    "                  y_true_cls:y_test}\n",
    "\n",
    "\n",
    "# feed_dict_test = {x: image_flat_test,\n",
    "#                   y: y_test_encoded,\n",
    "#                   y_true_cls:y_test}"
   ]
  },
  {
   "cell_type": "code",
   "execution_count": 23,
   "metadata": {
    "collapsed": false
   },
   "outputs": [
    {
     "name": "stdout",
     "output_type": "stream",
     "text": [
      "0.0525732\n"
     ]
    }
   ],
   "source": [
    "\n",
    "acc = sess.run(accuracy,feed_dict=feed_dict_test)\n",
    "print(acc)\n",
    "    "
   ]
  },
  {
   "cell_type": "markdown",
   "metadata": {},
   "source": [
    "## writing out a log of model parameters and performance\n"
   ]
  },
  {
   "cell_type": "code",
   "execution_count": 24,
   "metadata": {
    "collapsed": false
   },
   "outputs": [],
   "source": [
    "log_file = \"log.txt\"\n",
    "special_note = \"normalization and changed filters to 4x4px. uses an augmented dataset (40x)\"\n",
    "with open(log_file, \"a\") as myfile:\n",
    "    myfile.write(\"\\n\"+str(iter)+\",\"+str(learning_rate)+\n",
    "                 \",\"+str(batch_size)+\n",
    "                 \",\"+str(keep_prob)+\n",
    "                 \",\"+ str(timedelta(seconds = int(round(compute_time))))+\n",
    "                 \",\"+str(round(acc,2)) +\n",
    "                 \",\"+special_note)\n",
    "\n"
   ]
  },
  {
   "cell_type": "markdown",
   "metadata": {},
   "source": [
    "## sending a txt with result to my phone "
   ]
  },
  {
   "cell_type": "code",
   "execution_count": 25,
   "metadata": {
    "collapsed": false
   },
   "outputs": [
    {
     "name": "stdout",
     "output_type": "stream",
     "text": [
      "SMb9a936ba460f4825a99d44958462cb61\n"
     ]
    }
   ],
   "source": [
    "from twilio.rest import TwilioRestClient\n",
    "\n",
    "\n",
    "with open('/home/deep_cat/twilio/sid.txt', 'r') as myfile:\n",
    "    account_sid=myfile.read().replace('\\n', '')\n",
    "    \n",
    "with open('/home/deep_cat/twilio/token.txt', 'r') as myfile:\n",
    "    auth_token=myfile.read().replace('\\n', '')\n",
    "    \n",
    "client = TwilioRestClient(account_sid, auth_token)\n",
    "\n",
    "message = client.messages.create(body=\"Model Complete. accuracy: \" + str(round(acc,2)) + \"\\nCompute time: \"+ str(timedelta(seconds = int(round(compute_time)))),\n",
    "    to=\"+14024807291\",    # Replace with your phone number\n",
    "    from_=\"+14028582009\") # Replace with your Twilio number\n",
    "\n",
    "print(message.sid)  "
   ]
  },
  {
   "cell_type": "code",
   "execution_count": null,
   "metadata": {
    "collapsed": false
   },
   "outputs": [],
   "source": [
    " "
   ]
  },
  {
   "cell_type": "code",
   "execution_count": 26,
   "metadata": {
    "collapsed": true
   },
   "outputs": [],
   "source": [
    "def plot_images(images, cls_true, cls_pred=None):\n",
    "    assert len(images) == len(cls_true) == 9\n",
    "    \n",
    "    #create figure with 3x3 sub-plots\n",
    "    fig, axes = plt.subplots(3,3)\n",
    "    fig.subplots_adjust(hspace=0.3, wspace=0.3)\n",
    "    \n",
    "    for i, ax in enumerate(axes.flat):\n",
    "        #plot image\n",
    "        ax.imshow(images[i].reshape(32,32),  cmap='Greys_r')\n",
    "        \n",
    "        # show true and predicted classes\n",
    "        if cls_pred is None:\n",
    "            xlabel = \"True: {0}\".format(cls_true[i])\n",
    "        else:\n",
    "            xlabel = \"True: {0}, Pred: {1}\".format(cls_true[i], cls_pred[i])\n",
    "        \n",
    "        ax.set_xlabel(xlabel)\n",
    "        \n",
    "        # remove ticks from the plot \n",
    "        ax.set_xticks([])\n",
    "        ax.set_yticks([])"
   ]
  },
  {
   "cell_type": "code",
   "execution_count": 27,
   "metadata": {
    "collapsed": false
   },
   "outputs": [
    {
     "ename": "NameError",
     "evalue": "name 'cls_pred' is not defined",
     "output_type": "error",
     "traceback": [
      "\u001b[0;31m---------------------------------------------------------------------------\u001b[0m",
      "\u001b[0;31mNameError\u001b[0m                                 Traceback (most recent call last)",
      "\u001b[0;32m<ipython-input-27-ab8630efa3d6>\u001b[0m in \u001b[0;36m<module>\u001b[0;34m()\u001b[0m\n\u001b[1;32m      1\u001b[0m \u001b[0mimages\u001b[0m \u001b[0;34m=\u001b[0m \u001b[0mimage_flat_test\u001b[0m\u001b[0;34m[\u001b[0m\u001b[0;36m0\u001b[0m\u001b[0;34m:\u001b[0m\u001b[0;36m9\u001b[0m\u001b[0;34m]\u001b[0m\u001b[0;34m\u001b[0m\u001b[0m\n\u001b[1;32m      2\u001b[0m \u001b[0mcls_true\u001b[0m \u001b[0;34m=\u001b[0m \u001b[0my_test\u001b[0m\u001b[0;34m[\u001b[0m\u001b[0;36m0\u001b[0m\u001b[0;34m:\u001b[0m\u001b[0;36m9\u001b[0m\u001b[0;34m]\u001b[0m\u001b[0;34m\u001b[0m\u001b[0m\n\u001b[0;32m----> 3\u001b[0;31m \u001b[0mplot_images\u001b[0m\u001b[0;34m(\u001b[0m\u001b[0mimages\u001b[0m \u001b[0;34m=\u001b[0m \u001b[0mimages\u001b[0m\u001b[0;34m,\u001b[0m \u001b[0mcls_true\u001b[0m \u001b[0;34m=\u001b[0m \u001b[0mcls_true\u001b[0m\u001b[0;34m,\u001b[0m \u001b[0mcls_pred\u001b[0m \u001b[0;34m=\u001b[0m \u001b[0mcls_pred\u001b[0m\u001b[0;34m)\u001b[0m\u001b[0;34m\u001b[0m\u001b[0m\n\u001b[0m",
      "\u001b[0;31mNameError\u001b[0m: name 'cls_pred' is not defined"
     ]
    }
   ],
   "source": [
    "images = image_flat_test[0:9]\n",
    "cls_true = y_test[0:9]\n",
    "plot_images(images = images, cls_true = cls_true, cls_pred = cls_pred)"
   ]
  },
  {
   "cell_type": "markdown",
   "metadata": {},
   "source": [
    "\n",
    "# Predicting the class for one image\n",
    "\n",
    "helpful source: http://stackoverflow.com/questions/33711556/making-predictions-with-a-tensorflow-model"
   ]
  },
  {
   "cell_type": "code",
   "execution_count": null,
   "metadata": {
    "collapsed": false
   },
   "outputs": [],
   "source": [
    "image_flat_train[0]"
   ]
  },
  {
   "cell_type": "code",
   "execution_count": null,
   "metadata": {
    "collapsed": false
   },
   "outputs": [],
   "source": [
    "plt.imshow(X_test[10000])"
   ]
  },
  {
   "cell_type": "code",
   "execution_count": null,
   "metadata": {
    "collapsed": false
   },
   "outputs": [],
   "source": [
    "y_test[10000]"
   ]
  },
  {
   "cell_type": "code",
   "execution_count": null,
   "metadata": {
    "collapsed": false
   },
   "outputs": [],
   "source": [
    "feed_dict = {x: image_flat_test[9998:10007]}\n",
    "classification = sess.run(y_pred, feed_dict)\n",
    "cls = np.argmax(classification, axis=1)\n",
    "print(cls)"
   ]
  },
  {
   "cell_type": "code",
   "execution_count": null,
   "metadata": {
    "collapsed": true
   },
   "outputs": [],
   "source": []
  },
  {
   "cell_type": "code",
   "execution_count": null,
   "metadata": {
    "collapsed": false
   },
   "outputs": [],
   "source": [
    "images =image_flat_test[9998:10007]\n",
    "cls_true = y_test[9998:10007]\n",
    "plot_images(images = images, cls_true = cls_true, cls_pred = cls)"
   ]
  },
  {
   "cell_type": "code",
   "execution_count": null,
   "metadata": {
    "collapsed": false
   },
   "outputs": [],
   "source": [
    "import os, glob\n",
    "\n",
    "new_signs= list()\n",
    "\n",
    "path = \"/home/deep_cat/traffic-signs-tensorflow/new_test_images\"\n",
    "test = os.path.join(path, '*.jpg')\n",
    "print(test)\n",
    "\n",
    "for infile in glob.glob(os.path.join(path, '*.jpg')):\n",
    "    print(infile)\n",
    "    img = cv2.imread(infile)\n",
    "    arr1 = np.array(img)\n",
    "    resize_img = cv2.resize(arr1, (32,32))\n",
    "    new_signs.append(resize_img)\n",
    "print(np.shape(new_signs))"
   ]
  },
  {
   "cell_type": "code",
   "execution_count": null,
   "metadata": {
    "collapsed": true
   },
   "outputs": [],
   "source": [
    "new_signs = np.array(new_signs)"
   ]
  },
  {
   "cell_type": "code",
   "execution_count": null,
   "metadata": {
    "collapsed": false
   },
   "outputs": [],
   "source": [
    "plt.imshow(new_signs[5])"
   ]
  },
  {
   "cell_type": "code",
   "execution_count": null,
   "metadata": {
    "collapsed": false
   },
   "outputs": [],
   "source": [
    "new_signs_flat = process_and_flatten(new_signs)"
   ]
  },
  {
   "cell_type": "code",
   "execution_count": null,
   "metadata": {
    "collapsed": false
   },
   "outputs": [],
   "source": [
    "new_signs_flat"
   ]
  },
  {
   "cell_type": "code",
   "execution_count": null,
   "metadata": {
    "collapsed": false
   },
   "outputs": [],
   "source": [
    "feed_dict = {x: new_signs_flat}\n",
    "classification = sess.run(y_pred, feed_dict)\n",
    "\n",
    "cls = np.argmax(classification, axis=1)\n",
    "print(cls)\n"
   ]
  },
  {
   "cell_type": "code",
   "execution_count": null,
   "metadata": {
    "collapsed": false
   },
   "outputs": [],
   "source": [
    "print(classification[0])"
   ]
  },
  {
   "cell_type": "code",
   "execution_count": null,
   "metadata": {
    "collapsed": true
   },
   "outputs": [],
   "source": []
  }
 ],
 "metadata": {
  "anaconda-cloud": {},
  "kernelspec": {
   "display_name": "Python [default]",
   "language": "python",
   "name": "python3"
  },
  "language_info": {
   "codemirror_mode": {
    "name": "ipython",
    "version": 3
   },
   "file_extension": ".py",
   "mimetype": "text/x-python",
   "name": "python",
   "nbconvert_exporter": "python",
   "pygments_lexer": "ipython3",
   "version": "3.5.2"
  }
 },
 "nbformat": 4,
 "nbformat_minor": 1
}
